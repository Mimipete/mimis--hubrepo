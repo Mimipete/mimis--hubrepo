{
 "cells": [
  {
   "cell_type": "markdown",
   "id": "7eea5f88-46ad-4bb9-b9b2-2ba5e44197b7",
   "metadata": {},
   "source": [
    "### CREATE HEADINGS AND ADD TEXTS USING MARKDOWNS"
   ]
  },
  {
   "cell_type": "markdown",
   "id": "0e11e7c3-04c9-40e5-8b46-b81a32039863",
   "metadata": {},
   "source": [
    "### Headings:\n",
    "\n",
    "* You can create headings by adding a <code>#</code> sign before a **word** or a **phrase**.\n",
    "\n",
    "   * There are six levels of headings.\n",
    "   * The number sign <code>#</code> indicate the level of heading for example **# Hello** corresponds to **level 1**,the highest level heading.\n",
    "   * Display the following text using six different heading levels.\n",
    "      * H1: This is a level 1 Heading\n",
    "      * H2: This is a level 2 Heading\n",
    "      * H3: This is a level 3 Heading\n",
    "      * H4: This is a level 4 Heading\n",
    "      * H5: This is a level 5 Heading\n",
    "      * H6: This is a level 6 Heading\n",
    " > Recall: to convert a code cell to markdown, first click inside the cell, then on the dropdown labelled **\"Code\"** in the toolbar and select **\"Markdown\"**. To run a cell, click inside the cell then press <kbd>Shift+Enter keys</kbd> together.    \n",
    "   <img src=\"https://cf-courses-data.s3.us.cloud-object-storage.appdomain.cloud/IBMDeveloperSkillsNetwork-DS0105EN-SkillsNetwork/labs/Labs_V4/images/markdown1.png\">\n",
    "   \n",
    "   * Convert the cell below to markdown cell and execute it.\n",
    "   * To see or edit the contents of a rendered Markdown cell after running it double-click on the cell. \n"
   ]
  },
  {
   "cell_type": "markdown",
   "id": "0580e9db-4a2e-4c62-8717-4c5143e86ed6",
   "metadata": {},
   "source": [
    "# H1: This is a level 1 Heading\n",
    "## H2: This is a level 2 Heading\n",
    "### H3: This is a level 3 Heading\n",
    "#### H4: This is a level 4 Heading\n",
    "##### H5: This is a level 5 Heading\n",
    "###### H6: This is a level 6 Heading"
   ]
  },
  {
   "cell_type": "markdown",
   "id": "b75dd38c-78bc-4bd3-bcea-d5c28de9318c",
   "metadata": {},
   "source": [
    "### Bold Text\n",
    "\n",
    "* You can create bold text by adding two asterisks or underscores before and after a word, phrase, or a sentence.\n",
    "\n",
    "* Convert the cell below to markdown cell and execute it.\n"
   ]
  },
  {
   "cell_type": "markdown",
   "id": "ccb2b0da-1591-4186-a8bb-ad7eeb44c3d1",
   "metadata": {},
   "source": [
    "**Bold text using asterisks.**\n",
    "__Bold text using underscores.__"
   ]
  },
  {
   "cell_type": "markdown",
   "id": "e330057e-08dc-4363-af39-9fb5d7f151dd",
   "metadata": {},
   "source": [
    "### Italic Text\n",
    "\n",
    "* You can display text in italics by adding a single asterisk or underscore before and after a word, phrase, or a sentence.\n",
    "\n",
    "* Convert the cell below to markdown cell and execute it.\n"
   ]
  },
  {
   "cell_type": "markdown",
   "id": "b84f5c62-fe3b-4f53-818c-d879f0ae582c",
   "metadata": {},
   "source": [
    "*Text in italics using asterik.*\n",
    "_Text in italics using underscore._"
   ]
  },
  {
   "cell_type": "markdown",
   "id": "e9b95341-8f41-4ef4-a341-f5c78b43e1df",
   "metadata": {},
   "source": [
    "### Bold and Italic text\n",
    "* You can display text in both bold and italic style at the same time by adding a three asterisks or underscores before and after a word,phrase or a sentence.\n",
    "\n",
    "* Convert the cell below to markdown cell and execute it.\n"
   ]
  },
  {
   "cell_type": "markdown",
   "id": "1e05985c-da53-496a-aaea-71d585e40d17",
   "metadata": {},
   "source": [
    "***Bold and italic text using asteriks.***\n",
    "___Bold and italic text using undrescores.___"
   ]
  },
  {
   "cell_type": "markdown",
   "id": "56932a47-822c-4a7b-8030-4d72e8b97198",
   "metadata": {},
   "source": [
    "# Exercise Three"
   ]
  },
  {
   "cell_type": "markdown",
   "id": "f7facd3d-0a87-45cf-918e-ba59fac09cf0",
   "metadata": {},
   "source": [
    "### Hyperlinks\n",
    "You can create a **hyperlink** in the following format.\n",
    "\n",
    "<img src=\"https://raw.githubusercontent.com/Lakshmiholla-2808/first/main/hyper1.png\">\n",
    "\n",
    "* **Name of the link** is the clickable link text\n",
    "* **Link url** is the web address of the url which will be directed on clicking the link.\n",
    "* To display a clickable link without a name, enclose the link in angle brackets.\n",
    "&lt;https://skills.network/ &gt;\n",
    "\n",
    "_Convert the code cell below to a markdown cell. Then create a hyperlink to the webpage **https://skills.network** with the **Name of the Link** as \"Skills Network\". Then execute the code._\n"
   ]
  },
  {
   "cell_type": "markdown",
   "id": "ca6fb76c-0a22-48c4-97ee-d10d6d88c641",
   "metadata": {},
   "source": [
    "[Skills Network] (https://skills.network/)"
   ]
  },
  {
   "cell_type": "markdown",
   "id": "d7841a07-a0f7-47a1-9061-cf19126eea7c",
   "metadata": {},
   "source": [
    "### Images\n",
    "\n",
    "Images can be rendered in the following format.\n",
    "     \n",
    "<img src=\"https://cf-courses-data.s3.us.cloud-object-storage.appdomain.cloud/IBMDeveloperSkillsNetwork-DS0105EN-SkillsNetwork/labs/Labs_V4/images/image.png\">\n",
    "\n",
    "Convert the cell below to markdown cell and execute it.\n"
   ]
  },
  {
   "cell_type": "markdown",
   "id": "e7afc0fb-7e53-486a-9a29-74a02c6ddb5e",
   "metadata": {},
   "source": [
    "\n",
    "LOGO: ![This is the skills network logo](https://cf-courses-data.s3.us.cloud-object-storage.appdomain.cloud/assets/logos/SN_web_lightmode.png)"
   ]
  },
  {
   "cell_type": "markdown",
   "id": "666fdfe1-5284-445a-a583-ad8806fe478e",
   "metadata": {},
   "source": [
    "# Exercise 4 \n",
    "\n",
    "### Create Tables in Markdown\n",
    "\n",
    "To create tables, use: \n",
    "* **hyphens** <code>(----)</code> for column headers \n",
    "* **pipes** <code>|</code> to separate each column\n",
    "* **Text on a new line** to separate each row\n",
    "\n",
    "<img src=\"https://cf-courses-data.s3.us.cloud-object-storage.appdomain.cloud/IBMDeveloperSkillsNetwork-DS0105EN-SkillsNetwork/labs/Labs_V4/images/tabledisp.png\">\n",
    "\n",
    "_Convert the code cell below to a markdown cell. Then recreate the example table above and execute the code._\n"
   ]
  },
  {
   "cell_type": "markdown",
   "id": "cf85b978-20a3-44f2-859d-35e40447a500",
   "metadata": {},
   "source": [
    "\n",
    "\n",
    "| Country Name | Capital |\n",
    "| -------------| ------ |\n",
    "| United States | Washington DC |\n",
    "| Australia | Canberra |\n",
    "| India | New Delhi |"
   ]
  },
  {
   "cell_type": "markdown",
   "id": "bcc23da7-9ee3-40fb-8e51-c26bc3bc4210",
   "metadata": {},
   "source": [
    "# Exercise 4 \n",
    "\n",
    "### Create ordered and unordered lists in Markdown\n",
    "\n",
    "#### Unordered List\n",
    "\n",
    "An unordered list is also referred to as a **bulleted list**.\n",
    "\n",
    "You can create an unordered list by adding **dashes (-), asterisks (*), or plus signs (+)** in front of line items.\n",
    "\n",
    "<img src=\"https://cf-courses-data.s3.us.cloud-object-storage.appdomain.cloud/IBMDeveloperSkillsNetwork-DS0105EN-SkillsNetwork/labs/Labs_V4/images/unordered.png\">\n",
    "\n",
    "_Convert the code cell below to a markdown cell. Then recreate the unordered list displayed above using **dashes (-), asterisks (*),** and **plus signs (+).** Then execute the code._\n"
   ]
  },
  {
   "cell_type": "markdown",
   "id": "d51dbc9b-1031-42ad-8053-3208f014bec7",
   "metadata": {},
   "source": [
    "\n",
    "- First item using dashes\n",
    "- Second item using dashes\n",
    "- Third item using dashes\n",
    "- Fourth item using dashes\n",
    "\n",
    "* First item using asterisks\n",
    "* Second item using asterisks\n",
    "* Third item using asterisks\n",
    "* Fourth item using asterisks\n",
    "\n",
    "+ First item using plus\n",
    "+ Second item using plus\n",
    "+ Third item using plus\n",
    "+ Fourth item using plus"
   ]
  },
  {
   "cell_type": "markdown",
   "id": "c7f0c217-8d0f-4261-bdf5-ed77a86b71ba",
   "metadata": {},
   "source": [
    "\n",
    "#### Ordered List\n",
    "\n",
    "We can create an ordered list by adding line items with **numbers** followed by **periods**.\n",
    "\n",
    " <img src=\"https://cf-courses-data.s3.us.cloud-object-storage.appdomain.cloud/IBMDeveloperSkillsNetwork-DS0105EN-SkillsNetwork/labs/Labs_V4/images/list.png\">\n",
    "\n",
    "_Convert the code cell below to a markdown cell. Then recreate the ordered list displayed above and execute the code._\n"
   ]
  },
  {
   "cell_type": "markdown",
   "id": "ad06b9a0-55ae-4de6-abcb-d4fcbe81d44a",
   "metadata": {},
   "source": [
    "1. First item\n",
    "2. Second item\n",
    "3. Third item\n",
    "4. Fourth item\n"
   ]
  },
  {
   "cell_type": "markdown",
   "id": "a6db8ee5-95fb-48f6-9a74-0d3c640d7118",
   "metadata": {},
   "source": [
    "# Practice Exercises"
   ]
  },
  {
   "cell_type": "markdown",
   "id": "7d7a1c5d-0cc1-4702-b067-4d7c457dcbbc",
   "metadata": {},
   "source": [
    "#### Task 1: Create **H2 level heading** as **Welcome to Python programming** and add the image from the following **url** with alt text as **This is SN labs New Launcher**\n",
    "\n",
    "_https://cf-courses-data.s3.us.cloud-object-storage.appdomain.cloud/IBMDeveloperSkillsNetwork-DS0105EN-SkillsNetwork/labs/Labs_V4/images/Launcher.png_\n"
   ]
  },
  {
   "cell_type": "markdown",
   "id": "c980ed65-f070-406c-a163-5fae4bf2a374",
   "metadata": {
    "tags": []
   },
   "source": [
    "## Welcome To Python Programming\n",
    "Launcher: ![This is SN Labs new Launcher](https://cf-courses-data.s3.us.cloud-object-storage.appdomain.cloud/IBMDeveloperSkillsNetwork-DS0105EN-SkillsNetwork/labs/Labs_V4/images/Launcher.png)"
   ]
  },
  {
   "cell_type": "markdown",
   "id": "66e26f3a-f0d9-4ff6-9520-231d80810433",
   "metadata": {},
   "source": [
    "#### Task 2: Create a hyperlink to <code>https://www.coursera.org/learn/open-source-tools-for-data-science/home</code> with the **Name of the link** as \"Tools For Data Science\".\n"
   ]
  },
  {
   "cell_type": "markdown",
   "id": "dde2ec87-4ed5-4c41-b2d5-140eaa49b676",
   "metadata": {},
   "source": [
    "#[Tools For Data Science]\n",
    "(https://www.coursera.org/learn/open-source-tools-for-data-science/home)"
   ]
  },
  {
   "cell_type": "markdown",
   "id": "616827e2-4482-4a2e-a63b-6206a910ca8e",
   "metadata": {},
   "source": [
    "#### Task 3: Create the following table:\n",
    "\n",
    " <img src=\"https://cf-courses-data.s3.us.cloud-object-storage.appdomain.cloud/IBMDeveloperSkillsNetwork-DS0105EN-SkillsNetwork/labs/Labs_V4/images/table.png\">\n"
   ]
  },
  {
   "cell_type": "markdown",
   "id": "3addef0f-28db-4034-805d-2ff2dfabf3bd",
   "metadata": {},
   "source": [
    "#\n",
    "| Fruits | Quantity(kg) | Price(in Rupee)\n",
    "|--------| -------------| --------------|\n",
    "| Apple | 2 | 500|\n",
    "| Orange | 1 | 200 |\n",
    "|Mango | 3 | 1000 |\n",
    "|Grapes | 2 | 400 |"
   ]
  },
  {
   "cell_type": "markdown",
   "id": "74b81cb3-f990-47bb-aad2-d2fbc60a0ca2",
   "metadata": {},
   "source": [
    "#### Task 4: Create the following ordered list:\n",
    "\n",
    "<img src=\"https://cf-courses-data.s3.us.cloud-object-storage.appdomain.cloud/IBMDeveloperSkillsNetwork-DS0105EN-SkillsNetwork/labs/Labs_V4/images/order1.png\">\n"
   ]
  },
  {
   "cell_type": "markdown",
   "id": "6f04dc89-6300-4c6f-bd5d-e79b68e4d921",
   "metadata": {},
   "source": [
    "#\n",
    "1. Python\n",
    "2. Java\n",
    "3. C++\n",
    "4. C"
   ]
  },
  {
   "cell_type": "code",
   "execution_count": null,
   "id": "51008ed0-b406-45ed-88f6-05f16bd7760f",
   "metadata": {},
   "outputs": [],
   "source": []
  }
 ],
 "metadata": {
  "kernelspec": {
   "display_name": "Python 3 (ipykernel)",
   "language": "python",
   "name": "python3"
  },
  "language_info": {
   "codemirror_mode": {
    "name": "ipython",
    "version": 3
   },
   "file_extension": ".py",
   "mimetype": "text/x-python",
   "name": "python",
   "nbconvert_exporter": "python",
   "pygments_lexer": "ipython3",
   "version": "3.12.3"
  }
 },
 "nbformat": 4,
 "nbformat_minor": 5
}
