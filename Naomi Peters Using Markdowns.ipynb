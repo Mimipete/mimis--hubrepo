{
 "cells": [
  {
   "cell_type": "markdown",
   "id": "180f286b-7981-412c-ba3d-b63d1ae0cc5c",
   "metadata": {},
   "source": [
    "# Exercise Two"
   ]
  },
  {
   "cell_type": "markdown",
   "id": "a6b8c9a6-289a-4638-bde8-1bcdd4a32ed5",
   "metadata": {},
   "source": [
    "# Execute it as a markdown cell\n",
    "# H1: This is a level 1 Heading\n",
    "## H2: This is a level 2 Heading\n",
    "### H3: This is a level 3 Heading\n",
    "#### H4: This is a level 4 Heading\n",
    "##### H5: This is a level 5 Heading\n",
    "###### H6: This is a level 6 Heading"
   ]
  },
  {
   "cell_type": "markdown",
   "id": "9653ebed-5bec-473e-b331-6688ca086a3d",
   "metadata": {},
   "source": [
    "# Execute it as a markdown cell\n",
    "**Bold text using asterisks.**\n",
    "__Bold text using underscores.__"
   ]
  },
  {
   "cell_type": "markdown",
   "id": "e2ef3158-5454-4f6e-b235-6bd1d4f28f7d",
   "metadata": {},
   "source": [
    "# Execute it as a markdown\n",
    "*Text in italics using asterik.*\n",
    "_Text in italics using underscore._"
   ]
  },
  {
   "cell_type": "markdown",
   "id": "e00f69ff-a255-44d7-81ae-9f88810c3723",
   "metadata": {},
   "source": [
    "# Execute it as a markdown cell\n",
    "***Bold and italic text using asteriks.***\n",
    "___Bold and italic text using undrescores.___"
   ]
  },
  {
   "cell_type": "markdown",
   "id": "56932a47-822c-4a7b-8030-4d72e8b97198",
   "metadata": {},
   "source": [
    "# Exercise Three"
   ]
  },
  {
   "cell_type": "markdown",
   "id": "5ab89161-136a-4543-b5e2-624f9099758c",
   "metadata": {},
   "source": [
    "# Execute it as a markdown cell\n",
    "[Skills Network] (https://skills.network/)"
   ]
  },
  {
   "cell_type": "markdown",
   "id": "33ad13b0-e757-4679-8a66-1b0834c924a6",
   "metadata": {},
   "source": [
    "# Execute it as a markdown cell\n",
    "LOGO: ![This is the skills network logo](https://cf-courses-data.s3.us.cloud-object-storage.appdomain.cloud/assets/logos/SN_web_lightmode.png)"
   ]
  },
  {
   "cell_type": "markdown",
   "id": "bc130e4e-8fc8-4bd2-8d73-1ee8ff1ffcb2",
   "metadata": {},
   "source": [
    "# Exercise Four"
   ]
  },
  {
   "cell_type": "markdown",
   "id": "88840a63-30e6-434c-8129-a71778f57de0",
   "metadata": {},
   "source": [
    "## Execute as a markdown cell\n",
    "\n",
    "| Country Name | Capital |\n",
    "| -------------| ------ |\n",
    "| United States | Washington DC |\n",
    "| Australia | Canberra |\n",
    "| India | New Delhi |"
   ]
  },
  {
   "cell_type": "markdown",
   "id": "78109f0b-6967-46c6-ad3d-77fd80302a9d",
   "metadata": {},
   "source": [
    "# Execute as a markdown cell\n",
    "- First item using dashes\n",
    "- Second item using dashes\n",
    "- Third item using dashes\n",
    "- Fourth item using dashes\n",
    "\n",
    "* First item using asterisks\n",
    "* Second item using asterisks\n",
    "* Third item using asterisks\n",
    "* Fourth item using asterisks\n",
    "\n",
    "+ First item using plus\n",
    "+ Second item using plus\n",
    "+ Third item using plus\n",
    "+ Fourth item using plus"
   ]
  },
  {
   "cell_type": "markdown",
   "id": "805da62a-2e83-46ed-96f5-561aebb10fb4",
   "metadata": {},
   "source": [
    "# Execute as a markdown cell\n",
    "1. First item\n",
    "2. Second item\n",
    "3. Third item\n",
    "4. Fourth item\n"
   ]
  },
  {
   "cell_type": "markdown",
   "id": "a6db8ee5-95fb-48f6-9a74-0d3c640d7118",
   "metadata": {},
   "source": [
    "# Practice Exercises"
   ]
  },
  {
   "cell_type": "markdown",
   "id": "7d7a1c5d-0cc1-4702-b067-4d7c457dcbbc",
   "metadata": {},
   "source": [
    "#### Task 1: Create **H2 level heading** as **Welcome to Python programming** and add the image from the following **url** with alt text as **This is SN labs New Launcher**\n",
    "\n",
    "_https://cf-courses-data.s3.us.cloud-object-storage.appdomain.cloud/IBMDeveloperSkillsNetwork-DS0105EN-SkillsNetwork/labs/Labs_V4/images/Launcher.png_\n"
   ]
  },
  {
   "cell_type": "markdown",
   "id": "c980ed65-f070-406c-a163-5fae4bf2a374",
   "metadata": {
    "tags": []
   },
   "source": [
    "## Welcome To Python Programming\n",
    "Launcher: ![This is SN Labs new Launcher](https://cf-courses-data.s3.us.cloud-object-storage.appdomain.cloud/IBMDeveloperSkillsNetwork-DS0105EN-SkillsNetwork/labs/Labs_V4/images/Launcher.png)"
   ]
  },
  {
   "cell_type": "markdown",
   "id": "66e26f3a-f0d9-4ff6-9520-231d80810433",
   "metadata": {},
   "source": [
    "#### Task 2: Create a hyperlink to <code>https://www.coursera.org/learn/open-source-tools-for-data-science/home</code> with the **Name of the link** as \"Tools For Data Science\".\n"
   ]
  },
  {
   "cell_type": "markdown",
   "id": "dde2ec87-4ed5-4c41-b2d5-140eaa49b676",
   "metadata": {},
   "source": [
    "#[Tools For Data Science]\n",
    "(https://www.coursera.org/learn/open-source-tools-for-data-science/home)"
   ]
  },
  {
   "cell_type": "markdown",
   "id": "616827e2-4482-4a2e-a63b-6206a910ca8e",
   "metadata": {},
   "source": [
    "#### Task 3: Create the following table:\n",
    "\n",
    " <img src=\"https://cf-courses-data.s3.us.cloud-object-storage.appdomain.cloud/IBMDeveloperSkillsNetwork-DS0105EN-SkillsNetwork/labs/Labs_V4/images/table.png\">\n"
   ]
  },
  {
   "cell_type": "markdown",
   "id": "3addef0f-28db-4034-805d-2ff2dfabf3bd",
   "metadata": {},
   "source": [
    "#\n",
    "| Fruits | Quantity(kg) | Price(in Rupee)\n",
    "|--------| -------------| --------------|\n",
    "| Apple | 2 | 500|\n",
    "| Orange | 1 | 200 |\n",
    "|Mango | 3 | 1000 |\n",
    "|Grapes | 2 | 400 |"
   ]
  },
  {
   "cell_type": "markdown",
   "id": "74b81cb3-f990-47bb-aad2-d2fbc60a0ca2",
   "metadata": {},
   "source": [
    "#### Task 4: Create the following ordered list:\n",
    "\n",
    "<img src=\"https://cf-courses-data.s3.us.cloud-object-storage.appdomain.cloud/IBMDeveloperSkillsNetwork-DS0105EN-SkillsNetwork/labs/Labs_V4/images/order1.png\">\n"
   ]
  },
  {
   "cell_type": "markdown",
   "id": "6f04dc89-6300-4c6f-bd5d-e79b68e4d921",
   "metadata": {},
   "source": [
    "#\n",
    "1. Python\n",
    "2. Java\n",
    "3. C++\n",
    "4. C"
   ]
  },
  {
   "cell_type": "code",
   "execution_count": null,
   "id": "51008ed0-b406-45ed-88f6-05f16bd7760f",
   "metadata": {},
   "outputs": [],
   "source": []
  }
 ],
 "metadata": {
  "kernelspec": {
   "display_name": "Python 3 (ipykernel)",
   "language": "python",
   "name": "python3"
  },
  "language_info": {
   "codemirror_mode": {
    "name": "ipython",
    "version": 3
   },
   "file_extension": ".py",
   "mimetype": "text/x-python",
   "name": "python",
   "nbconvert_exporter": "python",
   "pygments_lexer": "ipython3",
   "version": "3.11.5"
  }
 },
 "nbformat": 4,
 "nbformat_minor": 5
}
